{
  "nbformat": 4,
  "nbformat_minor": 0,
  "metadata": {
    "colab": {
      "provenance": []
    },
    "kernelspec": {
      "name": "python3",
      "display_name": "Python 3"
    },
    "language_info": {
      "name": "python"
    }
  },
  "cells": [
    {
      "cell_type": "markdown",
      "source": [
        "# Deep Reinforcement Learning\n",
        "\n",
        "## Importing the libraries\n"
      ],
      "metadata": {
        "id": "q4UVesimm5o1"
      }
    },
    {
      "cell_type": "code",
      "execution_count": 1,
      "metadata": {
        "id": "FPMGTk81mdss"
      },
      "outputs": [],
      "source": [
        "import numpy as np"
      ]
    },
    {
      "cell_type": "markdown",
      "source": [
        "## Setting the parameters gamma and alpha for the Q-Learning"
      ],
      "metadata": {
        "id": "t9w6kBV9m4x_"
      }
    },
    {
      "cell_type": "code",
      "source": [
        "gamma = 0.75\n",
        "alpha = 0.9"
      ],
      "metadata": {
        "id": "UqMB5n-InBHN"
      },
      "execution_count": 2,
      "outputs": []
    },
    {
      "cell_type": "markdown",
      "source": [
        "## DEFINING THE ENVIRONMENT"
      ],
      "metadata": {
        "id": "l_gHk5LZnRTK"
      }
    },
    {
      "cell_type": "code",
      "source": [
        "location_to_state = {'A': 0,\n",
        "                     'B': 1,\n",
        "                     'C': 2,\n",
        "                     'D': 3,\n",
        "                     'E': 4,\n",
        "                     'F': 5,\n",
        "                     'G': 6,\n",
        "                     'H': 7,\n",
        "                     'I': 8,\n",
        "                     'J': 9,\n",
        "                     'K': 10,\n",
        "                     'L': 11}"
      ],
      "metadata": {
        "id": "6znOTuwTnD0W"
      },
      "execution_count": 3,
      "outputs": []
    },
    {
      "cell_type": "code",
      "source": [
        "# Defining the actions\n",
        "actions = [0, 1, 2, 3, 4, 5, 6, 7, 8, 9, 10, 11]"
      ],
      "metadata": {
        "id": "EoNLenm3nVP7"
      },
      "execution_count": 4,
      "outputs": []
    },
    {
      "cell_type": "code",
      "source": [
        "# Defining the rewards\n",
        "R = np.array([[0, 1, 0, 0, 0, 0, 0, 0, 0, 0, 0, 0],\n",
        "              [1, 0, 1, 0, 0, 1, 0, 0, 0, 0, 0, 0],\n",
        "              [0, 1, 0, 0, 0, 0, 1, 0, 0, 0, 0, 0],\n",
        "              [0, 0, 0, 0, 0, 0, 0, 1, 0, 0, 0, 0],\n",
        "              [0, 0, 0, 0, 0, 0, 0, 0, 1, 0, 0, 0],\n",
        "              [0, 1, 0, 0, 0, 0, 0, 0, 0, 1, 0, 0],\n",
        "              [0, 0, 1, 0, 0, 0, 1, 1, 0, 0, 0, 0],\n",
        "              [0, 0, 0, 1, 0, 0, 1, 0, 0, 0, 0, 1],\n",
        "              [0, 0, 0, 0, 1, 0, 0, 0, 0, 1, 0, 0],\n",
        "              [0, 0, 0, 0, 0, 1, 0, 0, 1, 0, 1, 0],\n",
        "              [0, 0, 0, 0, 0, 0, 0, 0, 0, 1, 0, 1],\n",
        "              [0, 0, 0, 0, 0, 0, 0, 1, 0, 0, 1, 0]])"
      ],
      "metadata": {
        "id": "WEZ2GgFLnabD"
      },
      "execution_count": 5,
      "outputs": []
    },
    {
      "cell_type": "markdown",
      "source": [
        "## BUILDING THE AI SOLUTION WITH Q-LEARNING"
      ],
      "metadata": {
        "id": "iE_1dBISnlnx"
      }
    },
    {
      "cell_type": "code",
      "source": [
        "# Making a mapping from the states to the locations\n",
        "state_to_location = {state: location for location,\n",
        "                     state in location_to_state.items()}"
      ],
      "metadata": {
        "id": "rEL6C1Uzne1e"
      },
      "execution_count": 6,
      "outputs": []
    },
    {
      "cell_type": "code",
      "source": [
        "state_to_location"
      ],
      "metadata": {
        "colab": {
          "base_uri": "https://localhost:8080/"
        },
        "id": "YSRqcE7anr2O",
        "outputId": "8a96e470-73c7-4980-89b8-33c265cd5d76"
      },
      "execution_count": 7,
      "outputs": [
        {
          "output_type": "execute_result",
          "data": {
            "text/plain": [
              "{0: 'A',\n",
              " 1: 'B',\n",
              " 2: 'C',\n",
              " 3: 'D',\n",
              " 4: 'E',\n",
              " 5: 'F',\n",
              " 6: 'G',\n",
              " 7: 'H',\n",
              " 8: 'I',\n",
              " 9: 'J',\n",
              " 10: 'K',\n",
              " 11: 'L'}"
            ]
          },
          "metadata": {},
          "execution_count": 7
        }
      ]
    },
    {
      "cell_type": "code",
      "source": [
        "# Making a function that returns the shortest route from a starting to ending location\n",
        "\n",
        "\n",
        "def route(starting_location, ending_location):\n",
        "    R_new = np.copy(R)\n",
        "    ending_state = location_to_state[ending_location]\n",
        "    R_new[ending_state, ending_state] = 1000\n",
        "    Q = np.array(np.zeros([12, 12]))\n",
        "    for i in range(1000):\n",
        "        current_state = np.random.randint(0, 12)\n",
        "        playable_actions = []\n",
        "        for j in range(12):\n",
        "            if R_new[current_state, j] > 0:\n",
        "                playable_actions.append(j)\n",
        "        next_state = np.random.choice(playable_actions)\n",
        "        TD = R_new[current_state, next_state] + gamma * Q[next_state,\n",
        "                                                          np.argmax(Q[next_state,])] - Q[current_state, next_state]\n",
        "        Q[current_state, next_state] = Q[current_state, next_state] + alpha * TD\n",
        "    route = [starting_location]\n",
        "    next_location = starting_location\n",
        "    while (next_location != ending_location):\n",
        "        starting_state = location_to_state[starting_location]\n",
        "        next_state = np.argmax(Q[starting_state,])\n",
        "        next_location = state_to_location[next_state]\n",
        "        route.append(next_location)\n",
        "        starting_location = next_location\n",
        "    return route\n"
      ],
      "metadata": {
        "id": "Uu_znCcFnv4c"
      },
      "execution_count": 8,
      "outputs": []
    },
    {
      "cell_type": "markdown",
      "source": [
        "## GOING INTO PRODUCTION\n",
        "\n",
        "### Making the final function that returns the optimal route"
      ],
      "metadata": {
        "id": "_1BAaDdCoCK1"
      }
    },
    {
      "cell_type": "code",
      "source": [
        "def best_route(starting_location, intermediary_location, ending_location):\n",
        "    return route(starting_location, intermediary_location) + route(intermediary_location, ending_location)[1:]\n",
        "\n",
        "\n",
        "# Printing the final route\n",
        "print('Route:')\n",
        "print(best_route('A', 'K', 'G'))"
      ],
      "metadata": {
        "colab": {
          "base_uri": "https://localhost:8080/"
        },
        "id": "X-cNFbprn7af",
        "outputId": "2c2a57a4-5ee7-41f1-ab2f-83574f824781"
      },
      "execution_count": 10,
      "outputs": [
        {
          "output_type": "stream",
          "name": "stdout",
          "text": [
            "Route:\n",
            "['A', 'B', 'F', 'J', 'K', 'L', 'H', 'G']\n"
          ]
        }
      ]
    },
    {
      "cell_type": "code",
      "source": [],
      "metadata": {
        "id": "6ReojE50oLo8"
      },
      "execution_count": null,
      "outputs": []
    },
    {
      "cell_type": "code",
      "source": [],
      "metadata": {
        "id": "PGNELhfgoRkR"
      },
      "execution_count": null,
      "outputs": []
    }
  ]
}